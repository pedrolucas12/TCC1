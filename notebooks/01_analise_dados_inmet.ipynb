{
 "cells": [
  {
   "cell_type": "markdown",
   "id": "3318b07b",
   "metadata": {},
   "source": [
    "# Análise Exploratória - Dados INMET 2025\n",
    "\n",
    "**Objetivo:** Analisar dados climáticos do INMET para identificar padrões relevantes para previsão de dengue\n",
    "\n",
    "**Dados:** Arquivos CSV do INMET com informações de múltiplas estações meteorológicas\n",
    "\n",
    "**Foco:** Precipitação, temperatura e umidade - variáveis chave para proliferação do *Aedes aegypti*"
   ]
  },
  {
   "cell_type": "markdown",
   "id": "fb16e6cb",
   "metadata": {},
   "source": [
    "## 1. Setup e Imports"
   ]
  },
  {
   "cell_type": "code",
   "execution_count": null,
   "id": "99fee4f3",
   "metadata": {},
   "outputs": [],
   "source": [
    "import pandas as pd\n",
    "import numpy as np\n",
    "import matplotlib.pyplot as plt\n",
    "import seaborn as sns\n",
    "from pathlib import Path\n",
    "import warnings\n",
    "warnings.filterwarnings('ignore')\n",
    "\n",
    "# Configurações de visualização\n",
    "plt.style.use('seaborn-v0_8-darkgrid')\n",
    "sns.set_palette('husl')\n",
    "%matplotlib inline\n",
    "\n",
    "print(\"✅ Bibliotecas carregadas com sucesso!\")"
   ]
  },
  {
   "cell_type": "markdown",
   "id": "fcc731dd",
   "metadata": {},
   "source": [
    "## 2. Carregar Dados Processados"
   ]
  },
  {
   "cell_type": "code",
   "execution_count": null,
   "id": "096e07e9",
   "metadata": {},
   "outputs": [],
   "source": [
    "# Carregar dados consolidados\n",
    "data_path = Path('../data/processed/inmet/inmet_consolidated_2025.parquet')\n",
    "\n",
    "if data_path.exists():\n",
    "    df = pd.read_parquet(data_path)\n",
    "    print(f\"✅ Dados carregados: {len(df):,} registros\")\n",
    "    print(f\"\\nColunas disponíveis: {list(df.columns)}\")\n",
    "    print(f\"\\nPeríodo: {df['Data'].min()} a {df['Data'].max()}\")\n",
    "else:\n",
    "    print(\"❌ Arquivo não encontrado! Execute primeiro o script process_inmet_bulk.py\")"
   ]
  },
  {
   "cell_type": "markdown",
   "id": "28b2c0f0",
   "metadata": {},
   "source": [
    "## 3. Visão Geral dos Dados"
   ]
  },
  {
   "cell_type": "code",
   "execution_count": null,
   "id": "79e889e0",
   "metadata": {},
   "outputs": [],
   "source": [
    "# Informações básicas\n",
    "print(\"=\"*70)\n",
    "print(\"RESUMO DOS DADOS INMET\")\n",
    "print(\"=\"*70)\n",
    "print(f\"Total de registros: {len(df):,}\")\n",
    "print(f\"Estados: {df['uf'].nunique()}\")\n",
    "print(f\"Estações: {df['codigo_estacao'].nunique()}\")\n",
    "print(f\"\\nDistribuição por estado:\")\n",
    "print(df['uf'].value_counts())"
   ]
  },
  {
   "cell_type": "code",
   "execution_count": null,
   "id": "487bfee9",
   "metadata": {},
   "outputs": [],
   "source": [
    "# Primeiras linhas\n",
    "df.head(10)"
   ]
  },
  {
   "cell_type": "code",
   "execution_count": null,
   "id": "b89219ff",
   "metadata": {},
   "outputs": [],
   "source": [
    "# Informações de tipos e missings\n",
    "df.info()"
   ]
  },
  {
   "cell_type": "markdown",
   "id": "c5b2762a",
   "metadata": {},
   "source": [
    "## 4. Análise de Precipitação\n",
    "\n",
    "**Por que é importante?**\n",
    "- Chuvas criam criadouros para larvas do mosquito\n",
    "- Picos de chuva geralmente precedem picos de dengue em 3-8 semanas\n",
    "- Precipitação acumulada é um dos melhores preditores"
   ]
  },
  {
   "cell_type": "code",
   "execution_count": null,
   "id": "012981b7",
   "metadata": {},
   "outputs": [],
   "source": [
    "# TODO: Análise de precipitação\n",
    "# - Séries temporais por estado\n",
    "# - Distribuições\n",
    "# - Padrões sazonais\n",
    "pass"
   ]
  },
  {
   "cell_type": "markdown",
   "id": "46ca96c7",
   "metadata": {},
   "source": [
    "## 5. Análise de Temperatura\n",
    "\n",
    "**Por que é importante?**\n",
    "- Temperatura entre 20-30°C é ideal para o mosquito\n",
    "- Afeta taxa de reprodução e tempo de incubação viral\n",
    "- Temperaturas extremas (muito frias ou quentes) reduzem atividade"
   ]
  },
  {
   "cell_type": "code",
   "execution_count": null,
   "id": "2349be1e",
   "metadata": {},
   "outputs": [],
   "source": [
    "# TODO: Análise de temperatura\n",
    "pass"
   ]
  },
  {
   "cell_type": "markdown",
   "id": "41388281",
   "metadata": {},
   "source": [
    "## 6. Análise de Umidade\n",
    "\n",
    "**Por que é importante?**\n",
    "- Umidade alta aumenta sobrevivência do mosquito\n",
    "- Afeta longevidade e capacidade de transmissão\n",
    "- Combinação temperatura + umidade é crítica"
   ]
  },
  {
   "cell_type": "code",
   "execution_count": null,
   "id": "092de0f1",
   "metadata": {},
   "outputs": [],
   "source": [
    "# TODO: Análise de umidade\n",
    "pass"
   ]
  },
  {
   "cell_type": "markdown",
   "id": "b5223726",
   "metadata": {},
   "source": [
    "## 7. Padrões Sazonais\n",
    "\n",
    "Identificar períodos de maior risco para dengue baseado em clima"
   ]
  },
  {
   "cell_type": "code",
   "execution_count": null,
   "id": "557dadc8",
   "metadata": {},
   "outputs": [],
   "source": [
    "# TODO: Análise sazonal\n",
    "# - Agregação mensal\n",
    "# - Comparação entre estados\n",
    "# - Identificação de \"estações de risco\"\n",
    "pass"
   ]
  },
  {
   "cell_type": "markdown",
   "id": "a4ccba71",
   "metadata": {},
   "source": [
    "## 8. Agregação Semanal\n",
    "\n",
    "Preparar dados para junção com séries temporais de dengue (que são semanais)"
   ]
  },
  {
   "cell_type": "code",
   "execution_count": null,
   "id": "2d55b24c",
   "metadata": {},
   "outputs": [],
   "source": [
    "# TODO: Agregar por semana epidemiológica\n",
    "pass"
   ]
  },
  {
   "cell_type": "markdown",
   "id": "52839b55",
   "metadata": {},
   "source": [
    "## 9. Exportar Dados para Modelagem"
   ]
  },
  {
   "cell_type": "code",
   "execution_count": null,
   "id": "1bbd16a5",
   "metadata": {},
   "outputs": [],
   "source": [
    "# TODO: Salvar datasets agregados\n",
    "# - Por estado + semana\n",
    "# - Por estação + semana\n",
    "# - Features derivadas (lags, médias móveis)\n",
    "pass"
   ]
  },
  {
   "cell_type": "markdown",
   "id": "a8817d55",
   "metadata": {},
   "source": [
    "## 10. Conclusões e Próximos Passos\n",
    "\n",
    "**Principais achados:**\n",
    "- (A ser preenchido após análise)\n",
    "\n",
    "**Próximos passos:**\n",
    "1. Carregar dados de dengue do SINAN\n",
    "2. Fazer join espacial (estação INMET → município mais próximo)\n",
    "3. Calcular correlações cruzadas (climate lag vs casos dengue)\n",
    "4. Treinar modelos preditivos"
   ]
  }
 ],
 "metadata": {
  "language_info": {
   "name": "python"
  }
 },
 "nbformat": 4,
 "nbformat_minor": 5
}
